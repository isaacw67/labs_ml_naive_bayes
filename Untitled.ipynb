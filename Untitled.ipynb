{
 "cells": [
  {
   "cell_type": "markdown",
   "id": "59ebcb1f",
   "metadata": {},
   "source": [
    "## Lab 5 Code!\n",
    "\n",
    "We need to implement module that \"reads files and stores their content in 2 string arrays of file names.\""
   ]
  },
  {
   "cell_type": "code",
   "execution_count": 1,
   "id": "401ebe18",
   "metadata": {},
   "outputs": [],
   "source": [
    "pos_file = \"../datasets/movies_reviews/pos\"\n",
    "neg_file = \"../datasets/movies_reviews/neg\""
   ]
  },
  {
   "cell_type": "code",
   "execution_count": 14,
   "id": "25931526",
   "metadata": {},
   "outputs": [],
   "source": [
    "# So let's make a 2D array where we keep track of this. \n",
    "\n",
    "# We need to go through each file in \"pos\" and negative\n",
    "import numpy as np\n",
    "import sklearn\n",
    "import pathlib as fl\n",
    "import os as os\n",
    "\n",
    "p = fl.Path(pos_file)\n",
    "p.resolve\n",
    "pos_fls = os.listdir(p)\n",
    "    \n",
    "words = []\n",
    "\n",
    "# Go through pos:\n",
    "\n",
    "for file_name in pos_fls:\n",
    "    # Get all words in 'file_name' and store them in a string\n",
    "    with open(pos_file + \"/\" + file_name) as f:\n",
    "        words.append(f.read())\n",
    "        \n",
    "# Now store the break point for positives:\n",
    "n = fl.Path(neg_file)\n",
    "n.resolve\n",
    "neg_fls = os.listdir(n)\n",
    "\n",
    "neg_st = len(words)\n",
    "\n",
    "# Add the negative files\n",
    "\n",
    "for file_name in neg_fls:\n",
    "    # Get all words in 'file_name' and store them in a string\n",
    "    with open(neg_file + \"/\" + file_name) as f:\n",
    "        words.append(f.read())\n",
    "        \n"
   ]
  },
  {
   "cell_type": "code",
   "execution_count": 19,
   "id": "083b4196",
   "metadata": {},
   "outputs": [
    {
     "name": "stdout",
     "output_type": "stream",
     "text": [
      "<bound method _cs_matrix.toarray of <2005x39678 sparse matrix of type '<class 'numpy.int64'>'\n",
      "\twith 667406 stored elements in Compressed Sparse Row format>>\n"
     ]
    }
   ],
   "source": [
    "# So we now have an array with all the text from all the reviews (and its associated to a unique document)\n",
    "\n",
    "from sklearn.feature_extraction.text import CountVectorizer\n",
    "\n",
    "# \n",
    "\n",
    "count_vectorizer = CountVectorizer()\n",
    "\n",
    "vector = count_vectorizer.fit_transform(words)\n"
   ]
  },
  {
   "cell_type": "code",
   "execution_count": null,
   "id": "3e15947a",
   "metadata": {},
   "outputs": [],
   "source": [
    "pos_train = np.ones(())"
   ]
  }
 ],
 "metadata": {
  "kernelspec": {
   "display_name": "Python 3 (ipykernel)",
   "language": "python",
   "name": "python3"
  },
  "language_info": {
   "codemirror_mode": {
    "name": "ipython",
    "version": 3
   },
   "file_extension": ".py",
   "mimetype": "text/x-python",
   "name": "python",
   "nbconvert_exporter": "python",
   "pygments_lexer": "ipython3",
   "version": "3.9.7"
  }
 },
 "nbformat": 4,
 "nbformat_minor": 5
}
