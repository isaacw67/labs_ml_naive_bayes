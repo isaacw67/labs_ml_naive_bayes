{
 "cells": [
  {
   "cell_type": "markdown",
   "id": "59ebcb1f",
   "metadata": {},
   "source": [
    "## Lab 5 Code!\n",
    "\n",
    "We need to implement module that \"reads files and stores their content in 2 string arrays of file names.\""
   ]
  },
  {
   "cell_type": "code",
   "execution_count": 70,
   "id": "401ebe18",
   "metadata": {},
   "outputs": [],
   "source": [
    "pos_file = \"../datasets/movies_reviews/pos\"\n",
    "neg_file = \"../datasets/movies_reviews/neg\""
   ]
  },
  {
   "cell_type": "code",
   "execution_count": 71,
   "id": "25931526",
   "metadata": {
    "scrolled": false
   },
   "outputs": [
    {
     "name": "stdout",
     "output_type": "stream",
     "text": [
      "['assume nothing . \\nthe phrase is perhaps one of the most used of the 1990\\'s , as first impressions and rumors are hardly ever what they seem to be . \\nthe phrase especially goes for oscar novak , an architect who is the main focus of three to tango , a delightful , funny romantic comedy about assumptions and being yourself . \\nnovak ( matthew perry ) , a shy , clumsy , chicago based architect , along with openly gay partner , peter steinberg ( oliver platt ) , fights for projects day in and day out . \\none of these is the job of restoring a popular building for charles newman ( dylan mcdermott ) , a rich , well-known businessman . \\ncharles immediately takes a liking to oscar , as he enjoys his personality and sense of humor . \\nseeing oscar as someone he could trust , charles asks him to watch his girlfriend , an unpredictable , adventurous girl named amy post ( neve campbell ) , who makes a living by blowing glass . \\ncharles wants to know who she talks to , what she does , and where she goes . \\nthe point ? \\nto make sure she\\'s not seeing someone else , of course . \\noscar gladly takes the job , and meets amy at an art show of hers , and sparks fly between the two from the get go . \\noscar feels he has found the one meant for him , and he is content with the idea of being with amy . \\nwell , another popular phrase of the 90\\'s is \" all good things must come to an end , \" and this stays true for oscar as well . \\ncharles walks in on amy and oscar having a drink one night , as oscar and amy have become great friends , but he doesn\\'t seem to mind . \\nwhy is this ? \\nhe thinks oscar is gay . \\nhe\\'s not afraid to share this with him either . \\noscar stands in shock after the words , \" i swear if you weren\\'t gay oscar , i\\'d have to kill you , \" are muttered flamboyantly from charles\\' mouth . \\nthe word spreads instantly through town . \\nwill oscar \" come out \" of his supposed gayness , or will he tell everyone that he isn\\'t ? \\none would immediately think he would deny the fact , but numerous occurrences come to oscar , which result in the fact that if he denies the fact , he could lose his job with charles . \\nmatthew perry doesn\\'t escape his character as chandler on the already classic t . v . \\ncomedy \" friends , \" as both oscar novak and chandler are clueless , shy , and sensitive . \\nnonetheless , perry is hilarious here , and shows that he can handle drama , as obviously , his character suffers quite a bit here . \\nit\\'s wonderful to see neve campbell outside of a horror movie , ( she was the star of scream 1 and 2 , and the upcoming scream 3 ) as she handles comedy superbly here . \\nher voice , smile , and personality are more than perfect for romantic comedies- stay with this genre , neve . \\nneve is delightful as her conflicted character , who feels love for oscar , but knows , based on rumors , that he is gay . \\nas usual , campbell is likable as her likable character . \\nunlike the other two leads here , dylan mcdermott is flat in his dialogue , and is never convincing . \\nwhen his character his present , mcdermott sets a dull tone to the scene with his horrible acting . \\nstick to the t . v . \\ndrama , the practice , dylan . \\nthe major weak spot in three to tango is the direction of damon santostefano . \\nno originality or technique is used whatsoever . \\nthree to tango is lucky that the script is so edgy and that perry and campbell are wonderful in comedy , or else the film would have been a disaster , as it is just plain boring to look at . \\nthree to tango is a film done many times before , as the plot is suspiciously close to 1998\\'s the object of my affection , but the plot has never been completed so well . \\nthree to tango\\'s script , written by rodney patrick vaccaro and aline brosh mckenna is fun , fast , and funny , delivering not only original , hilarious gay jokes ( not your run of the mill material ) , but a certain snappiness in the dialogue between characters that always keeps you smiling . \\nunlike last summer\\'s south park : bigger , longer , and uncut and 1997\\'s in & out , three to tango is a comedy in which the gay element is not crude or vulgar . \\nthe script is wise to take this route , as gays can\\'t ( i don\\'t think so , anyway ) be offended by this light , playful comedy . \\n ( to prove this , a gay couple was in the audience who were laughing constantly . ) \\nthree to tango\\'s climax is a hilarious , clever scene that is pure irony based on the outcome of most romantic-mistaken identity comedies . \\nthree to tango is a gem . \\nthe bottom line : three to tango is a light , sharp , snappy romantic comedy with a superb ending , and great stars . \\none of the better romantic comedies of 1999 . \\n', 'plot : derek zoolander is a male model . \\nhe is also very dumb and impressionable . \\nfor that reason , he is secretly hired and trained ( so secret , that even he doesn\\'t know about it ) by an underground fashion syndicate to assassinate the prime minister of malaysia , who wants to abolish child labor in his country . \\nwill zoolander fulfill the dirty deed ? \\nwill zoolander ever grace the world his new \" look \" ? \\nis this a funny movie ? \\nfind out below . . . \\ncritique : there\\'s a place in our world for \" stupid comedies \" . \\nfilms which don\\'t pretend to take themselves seriously , are based on idiotic premises and filled with dumb jokes . \\nthere\\'s also a time for them and many would argue that this difficult period of our history , might be an ideal circumstance during which to \" relax \" by watching something so completely frivolous . \\nwell , if you\\'re in the mood for some seriously mindless entertainment , ben stiller and his cast of many have assembled one of the more original dumb comedies in some time . \\nof course , comedies as such are usually very subjective and i could see how some will see this film simply as stupid and unfunny , while others will grant them the \" stupid \" , but consider it funny instead . \\ni personally enjoyed it for the most part , cracked up loudly during a couple of specific sequences and loved the derek zoolander character and the unrestrained whipping they released upon the fashion industry . \\nsnap ! \\nit was also nice to see several real-life models with small roles in the movie , not taking themselves too seriously . \\nand if you\\'re the type of person who likes celebrity cameos in films , well , don\\'t look any further because dozens of famous faces show up here including vince vaughn , billy zane , winona ryder , christian slater , david duchovny , natalie portman and many , many others . \\ni especially liked andy dick\\'s complete make-over as the masseuse . \\nhi-larious ! \\nbut with all films of this type , there is bound to be some stuff that simply doesn\\'t work . \\na few particulars which didn\\'t strike my fancy included the bulimia and \" orgy \" sequence with christine taylor , the break-dance fighting , and i also never get why they use real countries in plots like this ( why not just \" make up \" a country , instead of zeroing in on a certain people ? ) . \\ni also could have done with less of the taylor character in general , since she wasn\\'t all that interesting and seemed to slow things down every now and then ( more zoolander , dude ! ) . \\nbut those few missteps were nothing compared to some of the more memorable scenes which definitely did work for me ! \\ni almost pissed myself during the \" gas station \" disaster , absolutely adored the \" walk-off \" contest ( with david bowie as the judge , no less ) and appreciated many of zoolander\\'s moronic one-liners ( \" i was a merman . . . a \\nmerman ! ! \" ) . \\nand i dare you to get his \" monkey \" photo shoot out of your head after seeing this movie ( \" you\\'re a monkey , derek . . . a \\nmonkey ! \" ) \\ni also really liked the soundtrack and the pace of the film , both of which zipped and zagged , and established a nice rhythm to it all . \\nagain , it\\'s to note that this movie is dumb and not for everyone , but my guess is that if you laughed at the trailer , you will likely enjoy many of the quips in the actual picture as well . \\nif you thought the trailer was dumb , skip this dodo bird and go rent austin powers again or something , a film from which there is an obvious influence here . \\nblue steel , baby . . . yeah ! ! ! \\nwhere\\'s joblo coming from ? \\naustin powers ( 7/10 ) - austin powers 2 ( 7/10 ) - deuce bigalow ( 7/10 ) - dude , where\\'s my car ( 7/10 ) - freddy got fingered ( 5/10 ) - jay & silent bob strike back ( 8/10 ) - joe dirt ( 5/10 ) - meet the parents ( 8/10 ) - say it isn\\'t so ( 3/10 ) \\n', 'i actually am a fan of the original 1961 or so live-action-disney flick of the same name starring hayley mills twice as a pair of twins , separated at birth by divorcing parents , never to come in contact with the other so the parents never have to meet again . \\nand everyone should know how i feel about remakes , especially of films i happen to enjoy ( my fallacy : unless you\\'re going to either capture the same exact spirit of the original or do something different with it or maybe even both , just wrack your brain and come up with a * gasp * new idea ) . \\nthis remake was not originally on the top of my viewing list , and was actually quite the opposite . \\ncontemporary live-action-disney films are not one of my favorties , anyway : they\\'re usually unfunny , alienating , and a big fat bore , at least to anyone over the age of 11 and above the iq of 10 . \\nthis one , however , is shockingly not bad . \\nin fact , it\\'s actually good . \\nnot the original good , but what\\'s great about it is that it doesn\\'t necessarily retread the original or capture the same exact spirit as it does become entertaining for the same exact reasons the original was entertaining . \\nbecause it\\'s cute and innocent fun . \\nbecause it has a pretty killer plot that is endlessly fun to follow along with . \\nbecause the lead star is immensely appealing . \\nbecause the parents are also immensely appealing . \\nand ( i\\'m repeating myself ) because it\\'s cute and innocent fun . \\nthere\\'s nothing too risque about it , save the plot ( the idea of separating twins and denying them the truth for years is ominously selfish , but that is precisely the point of the movie ) , and it\\'s aimed directly at either kids , adults who want to remember the original , or young adults who want to remember what it was like to be a kid . \\ni , personally , am somewhere between the second and third . \\ni can vividly remember when my taste in movies wasn\\'t so weird or diverse ( the names godard and kubrick weren\\'t even a glimmer in my right eye back then ) , when i would tune in every sunday night for a couple years to see abc\\'s \" wonderful world of disney , \" where they\\'d show you a live-action and/or made-for-tv disney flick an hour per week . \\ni can remember my mom taking my sister and i along with all my friends and their mothers to see all the rereleased disney films ( like \" lady and the tramp \" and \" pinnochio \" ) . \\nand , most sadly , i remember every single christmas , without fail , there were a barage of children\\'s animated half-hour shows , made exclusively for the christmas season , that i wouldn\\'t dare missing . \\ni can even remember seeing the made-for-tv \" parent trap ii \" on tv one night , and after i had seen that one over and over and over again , i saw the original \" parent trap . \" \\nit\\'s more of a late childhood movie , because it deals with the issue of divorce , but it deals with it in a disney-ized version . \\nit\\'s playful , and witty , and charming , and if i saw it for the first time right now , having never experienced that part of my childhood , i\\'d probably dismiss it . \\ni\\'d probably do the same for the new version of the same movie if i hadn\\'t seen the original at such a perfect age . \\nwatching it , i could remember what fun it was to watch a disney film , and how divorce for me started to get me thinking about the possibilities of my seemingly-perfect parents splitting up , and how it affected my adolescence . \\nand also how it brushed that fear off with a smooth stroke , and pointed out that even in the most fucked-up of situations , things could always work out if you , well , manipulate things a bit , at least for the better . \\nthis new version did that for me , but it\\'s also charming in its own way . \\nit has a new cast , a contemporary feel , and , for the first time in awhile for a live-action-disney flick , a tone that isn\\'t corny or condescending , but just right . \\nthe moments that would otherwise seem corny are actually affecting in a safe kind of way . \\nand for the first time since the original film , the kids actually know better than the foolish adults . \\nthe story is basically classic by now , repeated almost as many times as kurosawa\\'s \" the seven samurai \" : a pair of twins ( played here by lindsay lohan , just like they were played by hayley mills in the original ) are separated at birth by their divorcing parents . \\none , annie , is sent to live with the mother ( natasha richardson , resembling her mother , vanessa redgrave , more than i had ever noticed ) in london , where she lives with her parents and her devoted , foppish butler ( simon kunz ) , as she works as a swingin\\' fashion designer . \\nshe grows up refined and classy , but also with a keen knowledge in sports and poker-playing . \\nthe other , hallie , is sent to northern california with her father ( dennis quaid ) to live on a vineyard with their pseudo-maid ( lisa ann walter ) , and grows up rugged yet charming . \\nthey both meet at the same camp , one that annie wants to go to to become more rugged . \\nthey feud because they look all-too similar , and are thus in tight competition , which results in some nasty pranks , which winds them in seclusion together in a private , out-of-the-way cabin . \\nthere , they become friends , then learn about eachother . \\nonce they know everything , they concoct a scheme to switch places so the one can meet the other parent , whom they\\'ve only heard of . \\nthey learn about eachother\\'s lives in detail , they make sure they look alike ( which requires hair cutting and , notoriously , ear-piercing - a scene which is like the kiddie version of the hypodermic needle scene in \" pulp fiction \" ) , and when the end of summer comes , they switch and hope for the best . \\nlindsay lohan doesn\\'t necessarily copy the acting style of hayley mills in the original . \\nbut she comes off just as appealing as she did once . \\nshe does , though , add a couple new things : she makes the california twin a little more appealing and the london twin a bit more frank and snobbish than the snotty and proper original , respectively . \\nshe also adds on an american and british accent to each one , with one faking the other accent throughout , and if you really take notice , you can see that the fake ones\\' accents aren\\'t exactly perfect . \\nshe\\'s also incredibly appealing , not merely cute , which is especially notable since this is her first feature film , and we know how notorious child actors are , especially in their first films . \\nshe makes a great protagonist , and it only helps that the supporting cast is equally appealing . \\ndennis quaid , in fact , hasn\\'t been this likable in about a decade - his big dumb smile and near cocky attitude is what has made him a notable actor in the past , not just that he\\'s mr . meg ryan . \\nditto natasha richardson ( except that she just hasn\\'t ever been this likable period ) . \\nthe two make a winning couple , maybe not so winning as maureen o\\'hara and the late brian keith in the original , but they still work for this film . \\ninstead of the bickering that ensued in the original , the film adds another dimension and another angle to their characters that was amiss in the original : during the opening credits , we see glimpses from their courtship on the qe2 , where they fall quickly and madly in love with eachother , and when back together again , the film\\'s more smarmy scenes come off as actually sentimental , but in that great way , not the migraine-inducing way as in many such films . \\nthis all brings this new \" parent trap \" to a level of entertainment that hasn\\'t really existed since , well , the original film years ago , still my money the best live-action-disney flick of all time . \\nthis is because it has a form of intelligence and wit that makes such plot points as an otherwise standard villainous love interest subplot ( a gold-digging sharon stone type , played by elaine hendrix , who\\'s deliciously tormented by the twins later on in the film ) a treat instead of a bore . \\nlike the original , this film transcends all the crap that it very well could be ( case in point : \" it takes two \" starring the olsen twins ) because it treats the children as the smart ones , and the adults as the silly ones , not the other way around . \\nand because , above everything , it knows exactly how to be charming without biting off more than it can chew . \\nhowever , in comparison with the original , it could be a bit better . \\ncertain scenes work well , but not nearly as well as they worked in the original . \\ni liked the way the parents fought over past dilemnas and then fought over falling in love again better than i liked watching two old flames getting back together over a bottle of wine - somehow , feuding is always more cinematic and pleasing than mere reminscing , a lesson extracted from the howard hawks/cary grant films of yesteryear . \\nand as much as this film transcends mere cutedom , compared to the original , this film almost drowns in cutedom . \\nthe original , though not gritty , was far more stylized and just as suitable for adult audiences as it was for young audiences . \\nas such , this remake may never be nearly as great or classic as the original film , but it at least knows how to treat its source material with dignity and respect , and how to create virtually the same effects without bordering on plagerism or petty annoyances . \\n']\n"
     ]
    }
   ],
   "source": [
    "# So let's make a 2D array where we keep track of this. \n",
    "\n",
    "# We need to go through each file in \"pos\" and negative\n",
    "import numpy as np\n",
    "import sklearn\n",
    "import pathlib as fl\n",
    "import os as os\n",
    "\n",
    "p = fl.Path(pos_file)\n",
    "p.resolve\n",
    "pos_fls = os.listdir(p)\n",
    "    \n",
    "words = []\n",
    "\n",
    "# Go through pos:\n",
    "\n",
    "for file_name in pos_fls:\n",
    "    # Get all words in 'file_name' and store them in a string\n",
    "    with open(pos_file + \"/\" + file_name) as f:\n",
    "        words.append(f.read())\n",
    "        \n",
    "# Now store the break point for positives:\n",
    "n = fl.Path(neg_file)\n",
    "n.resolve\n",
    "neg_fls = os.listdir(n)\n",
    "\n",
    "neg_st = len(words)\n",
    "\n",
    "# Add the negative files\n",
    "\n",
    "for file_name in neg_fls:\n",
    "    # Get all words in 'file_name' and store them in a string\n",
    "    with open(neg_file + \"/\" + file_name) as f:\n",
    "        words.append(f.read())\n",
    "        \n",
    "print(words[0:3])"
   ]
  },
  {
   "cell_type": "markdown",
   "id": "659846ae",
   "metadata": {},
   "source": [
    "# Vectorizer\n",
    "\n",
    "We'll use the CountVectorizer form sklearn to convert our text documents into an array of word counts. I think it works by taking key words and reporting their total counts within that article. I believe it excludes non-key words (like articles, like \"i"
   ]
  },
  {
   "cell_type": "code",
   "execution_count": 72,
   "id": "083b4196",
   "metadata": {},
   "outputs": [],
   "source": [
    "# So we now have an array with all the text from all the reviews (and its associated to a unique document)\n",
    "\n",
    "from sklearn.feature_extraction.text import CountVectorizer\n",
    "\n",
    "\n",
    "count_vectorizer = CountVectorizer()\n",
    "\n",
    "vector = count_vectorizer.fit_transform(words)\n",
    "arr = vector.toarray()"
   ]
  },
  {
   "cell_type": "code",
   "execution_count": 83,
   "id": "3e15947a",
   "metadata": {},
   "outputs": [],
   "source": [
    "class_lbl = np.ones((neg_st,)) \n",
    "class_lbl = np.concatenate((class_lbl, np.zeros(((len(words) - neg_st),))))\n",
    "class_lbl\n",
    "re_class = class_lbl.reshape(-1)"
   ]
  },
  {
   "cell_type": "code",
   "execution_count": 84,
   "id": "d194c266",
   "metadata": {},
   "outputs": [],
   "source": [
    "# So now we have data (in arr), and classes (in re_class)\n",
    "# Meaning we have an X and a Y\n",
    "\n",
    "# Lets get a training and tesitng set:\n",
    "\n",
    "from sklearn.model_selection import train_test_split\n",
    "X_train, X_test, Y_train, Y_test = train_test_split(arr, re_class, test_size=0.2)"
   ]
  },
  {
   "cell_type": "markdown",
   "id": "5c2d9e52",
   "metadata": {},
   "source": [
    "# Naive Bayes\n",
    "\n",
    "We're going to use the MultinomialNB, which purports to be good at dealing with word data (according to the docs). "
   ]
  },
  {
   "cell_type": "code",
   "execution_count": 85,
   "id": "ef2f7e50",
   "metadata": {},
   "outputs": [
    {
     "data": {
      "text/plain": [
       "MultinomialNB()"
      ]
     },
     "execution_count": 85,
     "metadata": {},
     "output_type": "execute_result"
    }
   ],
   "source": [
    "from sklearn.naive_bayes import MultinomialNB\n",
    "\n",
    "naive = MultinomialNB()\n",
    "\n",
    "naive.fit(X_train, Y_train)"
   ]
  },
  {
   "cell_type": "code",
   "execution_count": 86,
   "id": "d19a9380",
   "metadata": {},
   "outputs": [
    {
     "data": {
      "text/plain": [
       "0.8254364089775561"
      ]
     },
     "execution_count": 86,
     "metadata": {},
     "output_type": "execute_result"
    }
   ],
   "source": [
    "naive.score(X_test, Y_test)"
   ]
  },
  {
   "cell_type": "markdown",
   "id": "96766e3a",
   "metadata": {},
   "source": [
    "We get a score of 82.5% That's pretty good!"
   ]
  },
  {
   "cell_type": "markdown",
   "id": "dee99b81",
   "metadata": {},
   "source": [
    "# Test on real life movie reviews\n",
    "\n",
    "I've found some movie reviews for recent movies I've seen, so lets see how this goes. \n",
    "The order is neg-pos-neg-pos-pos"
   ]
  },
  {
   "cell_type": "code",
   "execution_count": 89,
   "id": "04a2324e",
   "metadata": {},
   "outputs": [],
   "source": [
    "mine = \"../datasets/movies_reviews/mine\"\n",
    "m = fl.Path(mine)\n",
    "m.resolve\n",
    "mine_fls = os.listdir(m)\n",
    "    \n",
    "true_class = [0, 1, 0, 1, 1]\n",
    "mine_a = []\n",
    "\n",
    "# Go through mine:\n",
    "\n",
    "for file_name in mine_fls:\n",
    "    # Get all words in 'file_name' and store them in a string\n",
    "    if (file_name == \".DS_Store\"):\n",
    "        continue\n",
    "    with open(mine + \"/\" + file_name) as f:\n",
    "        mine_a.append(f.read())\n",
    "        \n",
    "\n",
    "# Now we need to vectorize mine_a\n",
    "vec = count_vectorizer.transform(mine_a)\n",
    "test_a = vec.toarray()"
   ]
  },
  {
   "cell_type": "code",
   "execution_count": 90,
   "id": "b7fd7b0e",
   "metadata": {},
   "outputs": [
    {
     "data": {
      "text/plain": [
       "array([1., 1., 1., 1., 1.])"
      ]
     },
     "execution_count": 90,
     "metadata": {},
     "output_type": "execute_result"
    }
   ],
   "source": [
    "naive.predict(test_a) # Test our input"
   ]
  },
  {
   "cell_type": "markdown",
   "id": "db8e29ad",
   "metadata": {},
   "source": [
    "So we predict that all of them are positive...\n",
    "\n",
    "This is not quite right, but it was right for 3/5 of them!\n",
    "\n",
    "Here are the true classes:\n",
    "\n",
    "true_class = [0, 1, 0, 1, 1] \n",
    "\n",
    "I think it likely predicts the negative reviews as positive since they didn't include many common negative words. The articles were written somewhat preteniously, so they likely included less common words which may have given our classifier a tougher time. \n"
   ]
  },
  {
   "cell_type": "code",
   "execution_count": null,
   "id": "629711e2",
   "metadata": {},
   "outputs": [],
   "source": []
  }
 ],
 "metadata": {
  "kernelspec": {
   "display_name": "Python 3 (ipykernel)",
   "language": "python",
   "name": "python3"
  },
  "language_info": {
   "codemirror_mode": {
    "name": "ipython",
    "version": 3
   },
   "file_extension": ".py",
   "mimetype": "text/x-python",
   "name": "python",
   "nbconvert_exporter": "python",
   "pygments_lexer": "ipython3",
   "version": "3.9.7"
  }
 },
 "nbformat": 4,
 "nbformat_minor": 5
}
